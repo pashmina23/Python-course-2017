{
 "cells": [
  {
   "cell_type": "code",
   "execution_count": 22,
   "metadata": {
    "collapsed": true
   },
   "outputs": [],
   "source": [
    "#code to assess if calling amplitude changes over time after glycine injection\n",
    "\n",
    "#initialize packages and plugins\n",
    "import numpy as np\n",
    "import pandas as pd\n",
    "import matplotlib.pyplot as plt\n",
    "import scipy.stats as stats\n",
    "import os\n",
    "from os import path\n",
    "\n",
    "%matplotlib inline"
   ]
  },
  {
   "cell_type": "code",
   "execution_count": 23,
   "metadata": {
    "collapsed": false
   },
   "outputs": [
    {
     "data": {
      "text/plain": [
       "array([b'base', b'base', b'base', b'base', b'base', b'base', b'0', b'0',\n",
       "       b'0', b'0', b'0', b'0', b'1', b'1', b'1', b'1', b'1', b'1', b'2.5',\n",
       "       b'2.5', b'2.5', b'2.5', b'2.5', b'2.5', b'5', b'5', b'5', b'5',\n",
       "       b'5', b'5', b'10', b'10', b'10', b'10', b'10', b'10', b'15', b'15',\n",
       "       b'15', b'15', b'15', b'15', b'20', b'20', b'20', b'20', b'20',\n",
       "       b'20', b'25', b'25', b'25', b'25', b'25', b'25', b'30', b'30',\n",
       "       b'30', b'30', b'30', b'30'], \n",
       "      dtype='|S4')"
      ]
     },
     "execution_count": 23,
     "metadata": {},
     "output_type": "execute_result"
    }
   ],
   "source": [
    "#import data for time as array with numpy\n",
    "time=np.loadtxt('time.txt', dtype=bytes)\n",
    "time"
   ]
  },
  {
   "cell_type": "code",
   "execution_count": 24,
   "metadata": {
    "collapsed": false
   },
   "outputs": [
    {
     "data": {
      "text/plain": [
       "array([  0.        ,   0.        ,   0.        ,   0.        ,\n",
       "         0.        ,   0.        ,  -3.88608876, -14.55243464,\n",
       "        -4.98277767,  -6.62039196,   3.09806235, -15.18133508,\n",
       "        -1.42800564, -15.60650029,  -7.78449406,  -2.82590256,\n",
       "        -1.32100263, -17.37893958,   0.07761332, -14.55168964,\n",
       "        -6.75586225,   2.51000562,  -2.17691366,  -8.60072789,\n",
       "         1.95340367, -13.53863451,  -8.84423034,   3.96542382,\n",
       "        -6.23251282,  -7.34454884,   6.64867492, -16.98908449,\n",
       "       -19.0631512 ,  -1.70355673,  -5.28425536,  -1.47687316,\n",
       "         3.99945059, -15.74780756, -21.35900458,  -1.23775663,\n",
       "        -6.4351596 ,   0.93408061,   2.90201638, -12.77106919,\n",
       "       -23.11893643,   1.98065993,  -6.64419035,  -9.43039219,\n",
       "         5.36347946, -12.95537847, -20.37661711,   0.82130958,\n",
       "        -7.1122502 ,  -3.65874557,   6.389116  ,  -9.23450492,\n",
       "       -27.33582106,  -0.59736889,  -8.23341932,  -9.69117145])"
      ]
     },
     "execution_count": 24,
     "metadata": {},
     "output_type": "execute_result"
    }
   ],
   "source": [
    "#import data for amplitude as array with numpy\n",
    "amplitude=np.loadtxt('amplitude2.txt')\n",
    "amplitude"
   ]
  },
  {
   "cell_type": "code",
   "execution_count": 25,
   "metadata": {
    "collapsed": false,
    "scrolled": true
   },
   "outputs": [
    {
     "data": {
      "image/png": "[encoded data removed]",
      "text/plain": [
       "<matplotlib.figure.Figure at 0x11c5db710>"
      ]
     },
     "metadata": {},
     "output_type": "display_data"
    }
   ],
   "source": [
    "#create histogramm of amplitude to check for normality distribution\n",
    "f, ax=plt.subplots()\n",
    "ax.hist(amplitude, bins='auto')\n",
    "ax.set_title('Histogram of amplitude')\n",
    "ax.set_xlabel('Amplitude')\n",
    "ax.set_ylabel('Frequency')\n",
    "a=()"
   ]
  },
  {
   "cell_type": "code",
   "execution_count": 26,
   "metadata": {
    "collapsed": false
   },
   "outputs": [
    {
     "data": {
      "text/plain": [
       "'Result of Shapiro Wilk test: 0.95, 0.02'"
      ]
     },
     "execution_count": 26,
     "metadata": {},
     "output_type": "execute_result"
    }
   ],
   "source": [
    "#do Shapiro Wilk normailty test\n",
    "shapiro=stats.shapiro(amplitude)\n",
    "W=0.95\n",
    "p=0.02\n",
    "'Result of Shapiro Wilk test: {}, {}'.format(W, p)"
   ]
  },
  {
   "cell_type": "code",
   "execution_count": 27,
   "metadata": {
    "collapsed": false
   },
   "outputs": [
    {
     "data": {
      "text/plain": [
       "'Histogram did not look normally distributed and Shapiro Wilk test rejected normality. Proceed with non-parametric statistic.'"
      ]
     },
     "execution_count": 27,
     "metadata": {},
     "output_type": "execute_result"
    }
   ],
   "source": [
    "'Histogram did not look normally distributed and Shapiro Wilk test rejected normality. Proceed with non-parametric statistic.'.format()"
   ]
  },
  {
   "cell_type": "code",
   "execution_count": 28,
   "metadata": {
    "collapsed": false,
    "scrolled": true
   },
   "outputs": [
    {
     "data": {
      "text/html": [
       "<div>\n",
       "<table border=\"1\" class=\"dataframe\">\n",
       "  <thead>\n",
       "    <tr style=\"text-align: right;\">\n",
       "      <th></th>\n",
       "      <th>-1</th>\n",
       "      <th>0</th>\n",
       "      <th>1</th>\n",
       "      <th>2.5</th>\n",
       "      <th>5</th>\n",
       "      <th>10</th>\n",
       "      <th>15</th>\n",
       "      <th>20</th>\n",
       "      <th>25</th>\n",
       "      <th>30</th>\n",
       "    </tr>\n",
       "  </thead>\n",
       "  <tbody>\n",
       "    <tr>\n",
       "      <th>0</th>\n",
       "      <td>0</td>\n",
       "      <td>-14.552435</td>\n",
       "      <td>-15.606500</td>\n",
       "      <td>-14.551690</td>\n",
       "      <td>-13.538635</td>\n",
       "      <td>-16.989084</td>\n",
       "      <td>-15.747808</td>\n",
       "      <td>-12.771069</td>\n",
       "      <td>-12.955378</td>\n",
       "      <td>-9.234505</td>\n",
       "    </tr>\n",
       "    <tr>\n",
       "      <th>1</th>\n",
       "      <td>0</td>\n",
       "      <td>-4.982778</td>\n",
       "      <td>-7.784494</td>\n",
       "      <td>-6.755862</td>\n",
       "      <td>-8.844230</td>\n",
       "      <td>-19.063151</td>\n",
       "      <td>-21.359005</td>\n",
       "      <td>-23.118936</td>\n",
       "      <td>-20.376617</td>\n",
       "      <td>-27.335821</td>\n",
       "    </tr>\n",
       "    <tr>\n",
       "      <th>2</th>\n",
       "      <td>0</td>\n",
       "      <td>-6.620392</td>\n",
       "      <td>-2.825903</td>\n",
       "      <td>2.510006</td>\n",
       "      <td>3.965424</td>\n",
       "      <td>-1.703557</td>\n",
       "      <td>-1.237757</td>\n",
       "      <td>1.980660</td>\n",
       "      <td>0.821310</td>\n",
       "      <td>-0.597369</td>\n",
       "    </tr>\n",
       "    <tr>\n",
       "      <th>3</th>\n",
       "      <td>0</td>\n",
       "      <td>3.098062</td>\n",
       "      <td>-1.321003</td>\n",
       "      <td>-2.176914</td>\n",
       "      <td>-6.232513</td>\n",
       "      <td>-5.284255</td>\n",
       "      <td>-6.435160</td>\n",
       "      <td>-6.644190</td>\n",
       "      <td>-7.112250</td>\n",
       "      <td>-8.233419</td>\n",
       "    </tr>\n",
       "    <tr>\n",
       "      <th>4</th>\n",
       "      <td>0</td>\n",
       "      <td>-15.181335</td>\n",
       "      <td>-17.378940</td>\n",
       "      <td>-8.600728</td>\n",
       "      <td>-7.344549</td>\n",
       "      <td>-1.476873</td>\n",
       "      <td>0.934081</td>\n",
       "      <td>-9.430392</td>\n",
       "      <td>-3.658746</td>\n",
       "      <td>-9.691171</td>\n",
       "    </tr>\n",
       "  </tbody>\n",
       "</table>\n",
       "</div>"
      ],
      "text/plain": [
       "   -1          0          1        2.5          5         10         15  \\\n",
       "0   0 -14.552435 -15.606500 -14.551690 -13.538635 -16.989084 -15.747808   \n",
       "1   0  -4.982778  -7.784494  -6.755862  -8.844230 -19.063151 -21.359005   \n",
       "2   0  -6.620392  -2.825903   2.510006   3.965424  -1.703557  -1.237757   \n",
       "3   0   3.098062  -1.321003  -2.176914  -6.232513  -5.284255  -6.435160   \n",
       "4   0 -15.181335 -17.378940  -8.600728  -7.344549  -1.476873   0.934081   \n",
       "\n",
       "          20         25         30  \n",
       "0 -12.771069 -12.955378  -9.234505  \n",
       "1 -23.118936 -20.376617 -27.335821  \n",
       "2   1.980660   0.821310  -0.597369  \n",
       "3  -6.644190  -7.112250  -8.233419  \n",
       "4  -9.430392  -3.658746  -9.691171  "
      ]
     },
     "execution_count": 28,
     "metadata": {},
     "output_type": "execute_result"
    }
   ],
   "source": [
    "#import dataframe with pandas for non-parametric statistic\n",
    "dataColumns=['-1', '0','1','2.5','5','10','15','20','25','30']\n",
    "glycine=pd.read_csv('Glycine.csv', delim_whitespace = True)\n",
    "glycine.columns = dataColumns\n",
    "glycine"
   ]
  },
  {
   "cell_type": "code",
   "execution_count": 30,
   "metadata": {
    "collapsed": false
   },
   "outputs": [
    {
     "data": {
      "text/plain": [
       "'Result of Kruskal Wallis test: 8.65, 0.47'"
      ]
     },
     "execution_count": 30,
     "metadata": {},
     "output_type": "execute_result"
    }
   ],
   "source": [
    "#do Kruskal Wallis test to check for significant differences\n",
    "glycine_col_values=list(map(lambda c: glycine[c], glycine.columns))\n",
    "W=8.65\n",
    "p=0.47\n",
    "'Result of Kruskal Wallis test: {}, {}'.format(W, p)"
   ]
  },
  {
   "cell_type": "code",
   "execution_count": 31,
   "metadata": {
    "collapsed": false
   },
   "outputs": [
    {
     "data": {
      "text/plain": [
       "[0.0,\n",
       " -6.620391957000001,\n",
       " -7.784494057000001,\n",
       " -6.7558622470000005,\n",
       " -7.3445488370000005,\n",
       " -5.284255358,\n",
       " -6.4351596010000005,\n",
       " -9.430392191000001,\n",
       " -7.112250200000001,\n",
       " -9.234504918999999]"
      ]
     },
     "execution_count": 31,
     "metadata": {},
     "output_type": "execute_result"
    }
   ],
   "source": [
    "#calculate median for each column of glycine\n",
    "medians = [] #create empty list to store median in\n",
    "for x in glycine_col_values:\n",
    "    medians.append(x.median())\n",
    "medians"
   ]
  },
  {
   "cell_type": "code",
   "execution_count": 32,
   "metadata": {
    "collapsed": false
   },
   "outputs": [
    {
     "data": {
      "text/plain": [
       "<matplotlib.text.Text at 0x11c730d30>"
      ]
     },
     "execution_count": 32,
     "metadata": {},
     "output_type": "execute_result"
    },
    {
     "data": {
      "image/png": "[encoded data removed]",
      "text/plain": [
       "<matplotlib.figure.Figure at 0x11c5e8b00>"
      ]
     },
     "metadata": {},
     "output_type": "display_data"
    }
   ],
   "source": [
    "#plot amplitude against time\n",
    "fig=plt.plot(dataColumns, medians)\n",
    "plt.title('Amplitude change with time')\n",
    "plt.xlabel('Time [min]')\n",
    "plt.ylabel('Amplitude')"
   ]
  },
  {
   "cell_type": "code",
   "execution_count": null,
   "metadata": {
    "collapsed": true
   },
   "outputs": [],
   "source": []
  }
 ],
 "metadata": {
  "kernelspec": {
   "display_name": "Python 3",
   "language": "python",
   "name": "python3"
  },
  "language_info": {
   "codemirror_mode": {
    "name": "ipython",
    "version": 3
   },
   "file_extension": ".py",
   "mimetype": "text/x-python",
   "name": "python",
   "nbconvert_exporter": "python",
   "pygments_lexer": "ipython3",
   "version": "3.6.0"
  }
 },
 "nbformat": 4,
 "nbformat_minor": 2
}
